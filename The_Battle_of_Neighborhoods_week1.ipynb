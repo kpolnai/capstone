{
 "cells": [
  {
   "cell_type": "markdown",
   "metadata": {},
   "source": [
    "# Week1"
   ]
  },
  {
   "cell_type": "markdown",
   "metadata": {},
   "source": [
    "### Description of the problem and a discussion of the background."
   ]
  },
  {
   "cell_type": "markdown",
   "metadata": {},
   "source": [
    "I would like to open a **restaurant in Chicago.** I would like to open it at a *relatively safe* neighborhood where there are few other restaurants so *the competition is quite low*. During my analysis I will concentrate on the more serious, more violent crimes. Because in my opinion more violent crimes matter the most."
   ]
  },
  {
   "cell_type": "markdown",
   "metadata": {},
   "source": [
    "### Description of the data and how it will be used to solve the problem."
   ]
  },
  {
   "cell_type": "markdown",
   "metadata": {},
   "source": [
    "#### 1. Chicago crime data"
   ]
  },
  {
   "cell_type": "markdown",
   "metadata": {},
   "source": [
    "I will use the [Chicago's city offical website](https://data.cityofchicago.org/api/views/3i3m-jwuy/rows.csv?accessType=DOWNLOAD) for crime data. The latest data available is from 2018, so I will use that. After downloading the CSV I will convert it to a DataFrame. As I mentioned above I will concentrate on the more serious/violent crimes."
   ]
  },
  {
   "cell_type": "markdown",
   "metadata": {},
   "source": [
    "I will drop lines considering less serious/violent crimes:\n",
    "* burglary\n",
    "* concealed carry license violation\n",
    "* criminal trespass\n",
    "* deceptive practice\n",
    "* gambling\n",
    "* interference with public officer\n",
    "* liquor law violation\n",
    "* motor vehicle theft\n",
    "* non-criminal\n",
    "* non-criminal (subject specified)\n",
    "* obscenity\n",
    "* other narcotic violation\n",
    "* other offense\n",
    "* prostitution\n",
    "* public indecency\n",
    "* public peace violation\n",
    "* theft"
   ]
  },
  {
   "cell_type": "markdown",
   "metadata": {},
   "source": [
    "**I will concentrate on the following type of crimes:**\n",
    "* arson\n",
    "* assault\n",
    "* crim sexual assault\n",
    "* criminal damage\n",
    "* criminal sexual assault\n",
    "* homicide\n",
    "* human trafficking\n",
    "* intimidation\n",
    "* kidnapping\n",
    "* narcotics\n",
    "* offense involving children\n",
    "* robbery\n",
    "* sex offense\n",
    "* stalking\n",
    "* weapons violation"
   ]
  },
  {
   "cell_type": "markdown",
   "metadata": {},
   "source": [
    "Chicago has 77 neighborhoods. I will check the (total number of crimes)/(neighboorhood population) for neighborhood and I will continue with the 20 safest neighboorhoods."
   ]
  },
  {
   "cell_type": "markdown",
   "metadata": {},
   "source": [
    "#### 2. Community areas in Chicago"
   ]
  },
  {
   "cell_type": "markdown",
   "metadata": {},
   "source": [
    "The name of the community areas can be found on [wikipedia](https://en.wikipedia.org/wiki/Community_areas_in_Chicago). I will get the name of the areas and the population from this source. Unfortunately this does not contains the coordinates, so I will use geolocator to the the coordinates."
   ]
  },
  {
   "cell_type": "markdown",
   "metadata": {},
   "source": [
    "#### 3. Foursquare"
   ]
  },
  {
   "cell_type": "markdown",
   "metadata": {},
   "source": [
    "I will use foursquare to check competition in the safest 20 neighboorhoods.I will select 5 of them and open a restaurant in one of them."
   ]
  }
 ],
 "metadata": {
  "kernelspec": {
   "display_name": "Python 3",
   "language": "python",
   "name": "python3"
  },
  "language_info": {
   "codemirror_mode": {
    "name": "ipython",
    "version": 3
   },
   "file_extension": ".py",
   "mimetype": "text/x-python",
   "name": "python",
   "nbconvert_exporter": "python",
   "pygments_lexer": "ipython3",
   "version": "3.7.3"
  }
 },
 "nbformat": 4,
 "nbformat_minor": 4
}
